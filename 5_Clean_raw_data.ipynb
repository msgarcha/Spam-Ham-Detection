{
 "cells": [
  {
   "cell_type": "code",
   "execution_count": null,
   "metadata": {},
   "outputs": [],
   "source": [
    "import os\n",
    "import pandas as pd\n",
    "\n",
    "pd.set_option('display.max_columns', 500)\n",
    "pd.set_option('display.width', 1000)\n",
    "\n",
    "os.chdir(\"..\")\n",
    "\n",
    "dir_list = os.listdir(\"Res/raw_data/\")\n",
    "dir_list = filter(lambda x: \".\" not in x, dir_list)\n",
    "\n",
    "df = pd.DataFrame(columns=[\"owner\",\"filepath\",\"mail_label\",\"content_mail\"])\n",
    "\n",
    "count=0\n",
    "for dir_1 in dir_list:\n",
    "    accepted_mail = []\n",
    "    mail_label = \"spam\" if(dir_1 in (\"SH\",\"GP\",\"BG\")) else \"ham\"\n",
    "    print(dir_1),\n",
    "    for dir_2 in (os.listdir(\"Res/raw_data/\"+dir_1)):\n",
    "        current_dir=[]\n",
    "        if(\".\" not in dir_2):\n",
    "            current_dir = os.listdir(\"Res/raw_data/\"+dir_1+\"/\"+dir_2)\n",
    "            try:\n",
    "                for x in current_dir:\n",
    "                    current_dir = [\"Res/raw_data/\" + dir_1 + \"/\" + dir_2 +\"/\"+x+\"/\"+y\n",
    "                                   for y in os.listdir(\"Res/raw_data/\" + dir_1 + \"/\" + dir_2 + \"/\" + x)]\n",
    "\n",
    "            except:\n",
    "                current_dir = [\"Res/raw_data/\" + dir_1 + \"/\" + dir_2 +\"/\"+x\n",
    "                               for x in os.listdir(\"Res/raw_data/\" + dir_1 + \"/\" + dir_2)]\n",
    "\n",
    "        for file_name in current_dir:\n",
    "            file = open(file_name,\"r\")\n",
    "            file_content = file.read()\n",
    "            if(\"content-type: text/plain\" in file_content.lower() or \"content-type: text/html\" in file_content.lower()):\n",
    "                df.loc[count] = [dir_1,file_name,mail_label,file_content]\n",
    "                count+=1\n",
    "                accepted_mail.append(file_name)\n",
    "    print(len(accepted_mail))\n",
    "\n",
    "df.to_csv(\"Res/accepted_raw_data/filtered_raw_data.csv\",sep=\",\",index=False)"
   ]
  }
 ],
 "metadata": {
  "kernelspec": {
   "display_name": "Python 2",
   "language": "python",
   "name": "python2"
  },
  "language_info": {
   "codemirror_mode": {
    "name": "ipython",
    "version": 2
   },
   "file_extension": ".py",
   "mimetype": "text/x-python",
   "name": "python",
   "nbconvert_exporter": "python",
   "pygments_lexer": "ipython2",
   "version": "2.7.15"
  }
 },
 "nbformat": 4,
 "nbformat_minor": 2
}
